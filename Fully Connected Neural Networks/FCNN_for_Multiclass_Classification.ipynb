{
  "nbformat": 4,
  "nbformat_minor": 0,
  "metadata": {
    "colab": {
      "provenance": []
    },
    "kernelspec": {
      "name": "python3",
      "display_name": "Python 3"
    },
    "language_info": {
      "name": "python"
    }
  },
  "cells": [
    {
      "cell_type": "markdown",
      "source": [
        "# **Problem Statement:**\n",
        "Here I developed a neural network model capable of accurately classifying handwritten digits from the MNIST dataset.\n",
        "\n",
        "# **Description:**\n",
        "The MNIST dataset is a widely used dataset in the field of machine learning and computer vision. It consists of 28x28 pixel grayscale images of handwritten digits (0-9) along with their corresponding labels. The goal of this project is to train a neural network model that can correctly identify the digits present in these images.\n",
        "\n",
        "The MNIST dataset contains a large number of labeled images, making it suitable for training and evaluating machine learning models. It is commonly used for tasks such as digit recognition and image classification.\n",
        "\n",
        "# **Use Cases:**\n",
        "######**Digital Document Processing:**\n",
        "Handwritten digit recognition can be integrated into document scanning and digitization systems to automatically convert handwritten numbers in documents into machine-readable text. This can streamline data extraction processes in various industries, such as healthcare and finance.\n",
        "\n",
        "######**Bank Check Processing:**\n",
        " Banks and financial institutions can use handwritten digit recognition to automate the processing of handwritten checks. The model can extract the numerical amounts written on checks, reducing manual data entry errors and improving processing efficiency.\n",
        "######**Biometric Authentication:**\n",
        " The model can be used in authentication systems to verify users based on handwritten signatures or PIN codes."
      ],
      "metadata": {
        "id": "HPS3do4SvCHl"
      }
    },
    {
      "cell_type": "markdown",
      "source": [
        "# **Loading required Packages and Dataset**"
      ],
      "metadata": {
        "id": "iaoYGzqerd5k"
      }
    },
    {
      "cell_type": "code",
      "execution_count": 1,
      "metadata": {
        "id": "PouApnjmEJFW"
      },
      "outputs": [],
      "source": [
        "import numpy as np\n",
        "import pandas as pd\n",
        "import matplotlib.pyplot as plt\n",
        "import tensorflow as tf\n",
        "\n",
        "# Import the MNIST dataset from TensorFlow.keras.datasets.\n",
        "from tensorflow.keras.datasets import mnist\n",
        "\n",
        "# Import the Sequential model from TensorFlow.keras.models.\n",
        "from tensorflow.keras.models import Sequential\n",
        "\n",
        "# Import the Dense layer type from TensorFlow.keras.layers.\n",
        "from tensorflow.keras.layers import Dense\n",
        "\n",
        "# Import the to_categorical utility function from TensorFlow.keras.utils.\n",
        "from tensorflow.keras.utils import to_categorical"
      ]
    },
    {
      "cell_type": "markdown",
      "source": [
        "# **Data Splitting**"
      ],
      "metadata": {
        "id": "ZPkdQ_J3wWmD"
      }
    },
    {
      "cell_type": "code",
      "source": [
        "# load dataset\n",
        "(x_train, y_train) , (x_test, y_test) = mnist.load_data()"
      ],
      "metadata": {
        "id": "IKeLpXhtEUpM"
      },
      "execution_count": 2,
      "outputs": []
    },
    {
      "cell_type": "markdown",
      "source": [
        "# **Display the Dataset**"
      ],
      "metadata": {
        "id": "tTuBbQDTbYpd"
      }
    },
    {
      "cell_type": "code",
      "source": [
        "# Number of digits to display\n",
        "n = 10\n",
        "\n",
        "# Create a figure to display images\n",
        "plt.figure(figsize = (20,4))\n",
        "\n",
        "for i in range(n):\n",
        "  #Create a subplot within figure\n",
        "  plt.subplot(2, n, i+1)\n",
        "  plt.imshow(x_train[i], cmap = 'gray')\n",
        "  plt.title(f'Label: {y_train[i]}')\n",
        "  plt.axis('off')"
      ],
      "metadata": {
        "colab": {
          "base_uri": "https://localhost:8080/",
          "height": 132
        },
        "id": "yDf9GqyZLb1A",
        "outputId": "54f3b2bd-1b50-435a-fe65-7989a122acd7"
      },
      "execution_count": 3,
      "outputs": [
        {
          "output_type": "display_data",
          "data": {
            "text/plain": [
              "<Figure size 2000x400 with 10 Axes>"
            ],
            "image/png": "[encoded data removed]"
          },
          "metadata": {}
        }
      ]
    },
    {
      "cell_type": "markdown",
      "source": [
        "# **Dimensions of Data**"
      ],
      "metadata": {
        "id": "6GJo9F9MZlrc"
      }
    },
    {
      "cell_type": "code",
      "source": [
        "# Print previous shape of x and y\n",
        "print(f\"Previous shape of x_train: {x_train.shape}\")\n",
        "print(f\"Previous shape of x_test: {x_test.shape}\")\n",
        "\n",
        "x_train = x_train.reshape(60000, 784)\n",
        "x_test = x_test.reshape(10000, 784)\n",
        "\n",
        "print(f\"New shape of x_train: {x_train.shape}\")\n",
        "print(f\"New shape of x_test: {x_test.shape}\")"
      ],
      "metadata": {
        "colab": {
          "base_uri": "https://localhost:8080/"
        },
        "id": "iRw9JhxeW2x9",
        "outputId": "9a233464-eaef-4d8c-cb2d-cfc014acffc8"
      },
      "execution_count": 4,
      "outputs": [
        {
          "output_type": "stream",
          "name": "stdout",
          "text": [
            "Previous shape of x_train: (60000, 28, 28)\n",
            "Previous shape of x_test: (10000, 28, 28)\n",
            "New shape of x_train: (60000, 784)\n",
            "New shape of x_test: (10000, 784)\n"
          ]
        }
      ]
    },
    {
      "cell_type": "markdown",
      "source": [
        "# **MinMax Scaling**"
      ],
      "metadata": {
        "id": "OfqEGc8RYwNP"
      }
    },
    {
      "cell_type": "code",
      "source": [
        "# Convert the data type of images to float32\n",
        "x_train = x_train.astype('float32')\n",
        "x_test = x_test.astype('float32')\n",
        "\n",
        "x_train /= 255\n",
        "x_test /= 255"
      ],
      "metadata": {
        "id": "wBSX6OD2XfA5"
      },
      "execution_count": 5,
      "outputs": []
    },
    {
      "cell_type": "markdown",
      "source": [
        "# **Preprocess the Target Variable**"
      ],
      "metadata": {
        "id": "nQgNH908byh8"
      }
    },
    {
      "cell_type": "code",
      "source": [
        "from tensorflow.keras.utils import to_categorical\n",
        "\n",
        "# Number of classes in dataset\n",
        "classes = 10\n",
        "\n",
        "# Convert labels to one hot encoded format\n",
        "y_train = to_categorical(y_train, classes)\n",
        "y_test = to_categorical(y_test, classes)\n",
        "\n",
        "# Print the shapes\n",
        "print(f\"Shape of y_train: {y_train.shape}\\n Shape of y_test: {y_test.shape}\")"
      ],
      "metadata": {
        "colab": {
          "base_uri": "https://localhost:8080/"
        },
        "id": "NgulQHO2ZiA1",
        "outputId": "a772fe13-3b6d-4b18-be3c-e6367584ac4e"
      },
      "execution_count": 6,
      "outputs": [
        {
          "output_type": "stream",
          "name": "stdout",
          "text": [
            "Shape of y_train: (60000, 10)\n",
            " Shape of y_test: (10000, 10)\n"
          ]
        }
      ]
    },
    {
      "cell_type": "markdown",
      "source": [
        "# **Setting up Hyperparameters**"
      ],
      "metadata": {
        "id": "FerE8yYOiMi6"
      }
    },
    {
      "cell_type": "code",
      "source": [
        "input_size = 784\n",
        "batch_size = 200\n",
        "hidden1 = 400\n",
        "hidden2 = 200\n",
        "hidden3 = 10   #No of classes\n",
        "epochs = 10"
      ],
      "metadata": {
        "id": "NnD3Hxe3iUfF"
      },
      "execution_count": 7,
      "outputs": []
    },
    {
      "cell_type": "code",
      "source": [
        "model = Sequential([\n",
        "    Dense(hidden1, input_dim = input_size , activation= 'relu'),\n",
        "    Dense(hidden2, activation = 'relu'),\n",
        "    Dense(hidden3, activation = 'softmax')]\n",
        ")\n",
        "model.compile(loss = 'categorical_crossentropy',\n",
        "              metrics = ['accuracy'],\n",
        "              optimizer = 'sgd')\n",
        "\n",
        "model.summary()"
      ],
      "metadata": {
        "colab": {
          "base_uri": "https://localhost:8080/"
        },
        "id": "dRl-MMybc0EL",
        "outputId": "055392d8-5f5e-44e2-9949-96f63e855081"
      },
      "execution_count": 8,
      "outputs": [
        {
          "output_type": "stream",
          "name": "stdout",
          "text": [
            "Model: \"sequential\"\n",
            "_________________________________________________________________\n",
            " Layer (type)                Output Shape              Param #   \n",
            "=================================================================\n",
            " dense (Dense)               (None, 400)               314000    \n",
            "                                                                 \n",
            " dense_1 (Dense)             (None, 200)               80200     \n",
            "                                                                 \n",
            " dense_2 (Dense)             (None, 10)                2010      \n",
            "                                                                 \n",
            "=================================================================\n",
            "Total params: 396210 (1.51 MB)\n",
            "Trainable params: 396210 (1.51 MB)\n",
            "Non-trainable params: 0 (0.00 Byte)\n",
            "_________________________________________________________________\n"
          ]
        }
      ]
    },
    {
      "cell_type": "markdown",
      "source": [
        "# **Training the Model**"
      ],
      "metadata": {
        "id": "6pliyWEXlIQj"
      }
    },
    {
      "cell_type": "code",
      "source": [
        "from time import time\n",
        "tic = time()\n",
        "model.fit(x_train, y_train, batch_size = batch_size, epochs = epochs, verbose = 1)\n",
        "toc = time()\n",
        "\n",
        "# Calculate and print the time taken for model training\n",
        "print(\"Model training took {} secs\".format(toc - tic))"
      ],
      "metadata": {
        "colab": {
          "base_uri": "https://localhost:8080/"
        },
        "id": "HiYyZSJhkWgn",
        "outputId": "a39dc1d7-0173-418a-9b3c-a204d473f287"
      },
      "execution_count": 9,
      "outputs": [
        {
          "output_type": "stream",
          "name": "stdout",
          "text": [
            "Epoch 1/10\n",
            "300/300 [==============================] - 7s 21ms/step - loss: 1.3670 - accuracy: 0.6850\n",
            "Epoch 2/10\n",
            "300/300 [==============================] - 7s 22ms/step - loss: 0.5742 - accuracy: 0.8583\n",
            "Epoch 3/10\n",
            "300/300 [==============================] - 6s 21ms/step - loss: 0.4307 - accuracy: 0.8854\n",
            "Epoch 4/10\n",
            "300/300 [==============================] - 8s 25ms/step - loss: 0.3733 - accuracy: 0.8984\n",
            "Epoch 5/10\n",
            "300/300 [==============================] - 5s 18ms/step - loss: 0.3400 - accuracy: 0.9061\n",
            "Epoch 6/10\n",
            "300/300 [==============================] - 4s 15ms/step - loss: 0.3171 - accuracy: 0.9112\n",
            "Epoch 7/10\n",
            "300/300 [==============================] - 4s 12ms/step - loss: 0.2997 - accuracy: 0.9159\n",
            "Epoch 8/10\n",
            "300/300 [==============================] - 3s 10ms/step - loss: 0.2858 - accuracy: 0.9193\n",
            "Epoch 9/10\n",
            "300/300 [==============================] - 3s 10ms/step - loss: 0.2737 - accuracy: 0.9219\n",
            "Epoch 10/10\n",
            "300/300 [==============================] - 4s 14ms/step - loss: 0.2634 - accuracy: 0.9255\n",
            "Model training took 83.24439573287964 secs\n"
          ]
        }
      ]
    },
    {
      "cell_type": "markdown",
      "source": [
        "# **Testing the Model**"
      ],
      "metadata": {
        "id": "PkcO_tB7pT86"
      }
    },
    {
      "cell_type": "code",
      "source": [
        "from sklearn.metrics import accuracy_score\n",
        "\n",
        "# Predict the probabilities for test set\n",
        "y_pred_probs = model.predict(x_test, verbose =0)\n",
        "y_pred = np.where(y_pred_probs > 0.5, 1, 0)\n",
        "\n",
        "#Calculate and print test accuracy score\n",
        "test_accuracy =  accuracy_score(y_pred, y_test)\n",
        "print(f\"Test Accuracy: {test_accuracy}\")"
      ],
      "metadata": {
        "id": "hRczPov2lnNB",
        "colab": {
          "base_uri": "https://localhost:8080/"
        },
        "outputId": "ed4bde2c-4eb3-4a0e-9277-cceb599a50e5"
      },
      "execution_count": 10,
      "outputs": [
        {
          "output_type": "stream",
          "name": "stdout",
          "text": [
            "Test Accuracy: 0.9094\n"
          ]
        }
      ]
    },
    {
      "cell_type": "markdown",
      "source": [
        "# **Other Evaluation Metrics**"
      ],
      "metadata": {
        "id": "6YxPE-CuuJ8l"
      }
    },
    {
      "cell_type": "code",
      "source": [
        "from sklearn.metrics import precision_score, recall_score, f1_score\n",
        "\n",
        "# Convert one-hot encoded labels to categorical integer labels\n",
        "y_test_categorical = np.argmax(y_test, axis=1)\n",
        "y_pred_categorical = np.argmax(y_pred, axis=1)\n",
        "\n",
        "# Calculate and print precision, recall, and F1-score\n",
        "precision = precision_score(y_test_categorical, y_pred_categorical, average='weighted')\n",
        "recall = recall_score(y_test_categorical, y_pred_categorical, average='weighted')\n",
        "f1 = f1_score(y_test_categorical, y_pred_categorical, average='weighted')\n",
        "\n",
        "print(f\"Precision: {precision}\")\n",
        "print(f\"Recall: {recall}\")\n",
        "print(f\"F1 Score: {f1}\")\n"
      ],
      "metadata": {
        "colab": {
          "base_uri": "https://localhost:8080/"
        },
        "id": "OEPCj2mhstgH",
        "outputId": "354dd019-203f-4f36-b6cf-eb056203b9d4"
      },
      "execution_count": 11,
      "outputs": [
        {
          "output_type": "stream",
          "name": "stdout",
          "text": [
            "Precision: 0.9223605284892894\n",
            "Recall: 0.9104\n",
            "F1 Score: 0.9127473280303506\n"
          ]
        }
      ]
    },
    {
      "cell_type": "code",
      "source": [],
      "metadata": {
        "id": "zQ6W_uH2yK_T"
      },
      "execution_count": 11,
      "outputs": []
    }
  ]
}